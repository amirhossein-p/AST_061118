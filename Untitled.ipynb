{
 "cells": [
  {
   "cell_type": "code",
   "execution_count": 219,
   "metadata": {},
   "outputs": [],
   "source": [
    "import numpy as np\n",
    "import sys\n",
    "import time\n",
    "import math\n",
    "from decimal import Decimal"
   ]
  },
  {
   "cell_type": "code",
   "execution_count": 32,
   "metadata": {},
   "outputs": [],
   "source": [
    "def calcSum(inList):\n",
    "    \"\"\"Returns sum of inputs\"\"\"\n",
    "    inList = np.array(inList)\n",
    "    return np.sum(inList, axis = 0)"
   ]
  },
  {
   "cell_type": "code",
   "execution_count": 35,
   "metadata": {},
   "outputs": [
    {
     "name": "stdout",
     "output_type": "stream",
     "text": [
      "Enter number of integers: 3\n",
      "Enter integer 1\n",
      "Enter integer 2\n",
      "Enter integer 3\n",
      "6\n"
     ]
    }
   ],
   "source": [
    "\n",
    "noOfInputds = 0\n",
    "inList = []\n",
    "noOfInputds = input('Enter number of integers: ')\n",
    "for i in range(int(noOfInputds)):\n",
    "    inList.append(int(input('Enter integer ')))\n",
    "result = calcSum(inList)\n",
    "print(result)"
   ]
  },
  {
   "cell_type": "code",
   "execution_count": 37,
   "metadata": {},
   "outputs": [
    {
     "data": {
      "text/plain": [
       "0.6666666666666666"
      ]
     },
     "execution_count": 37,
     "metadata": {},
     "output_type": "execute_result"
    }
   ],
   "source": [
    "a = np.array([1,2,3])\n",
    "b = np.var(a)\n",
    "b"
   ]
  },
  {
   "cell_type": "code",
   "execution_count": 40,
   "metadata": {},
   "outputs": [
    {
     "data": {
      "text/plain": [
       "9223372036854775807"
      ]
     },
     "execution_count": 40,
     "metadata": {},
     "output_type": "execute_result"
    }
   ],
   "source": [
    "sys.maxsize"
   ]
  },
  {
   "cell_type": "code",
   "execution_count": 46,
   "metadata": {},
   "outputs": [
    {
     "name": "stdout",
     "output_type": "stream",
     "text": [
      "<class 'int'>\n",
      "9223372036854775807\n"
     ]
    }
   ],
   "source": [
    "print(type(sys.maxsize))\n",
    "print(sys.maxsize)"
   ]
  },
  {
   "cell_type": "code",
   "execution_count": 47,
   "metadata": {},
   "outputs": [
    {
     "name": "stdout",
     "output_type": "stream",
     "text": [
      "<class 'int'>\n",
      "9223372036854775809\n"
     ]
    }
   ],
   "source": [
    "print(type(sys.maxsize+2))\n",
    "print(sys.maxsize+2)"
   ]
  },
  {
   "cell_type": "code",
   "execution_count": 48,
   "metadata": {},
   "outputs": [
    {
     "name": "stdout",
     "output_type": "stream",
     "text": [
      "<class 'int'>\n"
     ]
    }
   ],
   "source": [
    "a = 10\n",
    "print(type(a))"
   ]
  },
  {
   "cell_type": "code",
   "execution_count": null,
   "metadata": {},
   "outputs": [],
   "source": [
    "b = 10**100000000\n",
    "print(type(b))"
   ]
  },
  {
   "cell_type": "code",
   "execution_count": null,
   "metadata": {},
   "outputs": [],
   "source": []
  },
  {
   "cell_type": "code",
   "execution_count": null,
   "metadata": {},
   "outputs": [],
   "source": [
    "noOfInputds = int(input('Enter number of integers: '))\n",
    "if (noOfInputds > 100) or (noOfInputds <= 0) :\n",
    "    print('Please enter number between 1 & 100!')"
   ]
  },
  {
   "cell_type": "code",
   "execution_count": 60,
   "metadata": {},
   "outputs": [
    {
     "name": "stdout",
     "output_type": "stream",
     "text": [
      "Enter number of integers: 101\n",
      "Please enter number between 1 & 100!\n",
      "Enter number of integers: 101\n",
      "Please enter number between 1 & 100!\n",
      "Enter number of integers: 101\n",
      "Please enter number between 1 & 100!\n",
      "Enter number of integers: 0\n",
      "Please enter number between 1 & 100!\n",
      "Enter number of integers: 3\n"
     ]
    }
   ],
   "source": [
    "while(True):\n",
    "    noOfInputds = int(input('Enter number of integers: '))\n",
    "    if (noOfInputds < 100) and (noOfInputds > 0) :\n",
    "        break\n",
    "    else:\n",
    "        print('Please enter number between 1 & 100!')"
   ]
  },
  {
   "cell_type": "code",
   "execution_count": null,
   "metadata": {},
   "outputs": [],
   "source": []
  },
  {
   "cell_type": "code",
   "execution_count": 48,
   "metadata": {},
   "outputs": [
    {
     "ename": "KeyboardInterrupt",
     "evalue": "",
     "output_type": "error",
     "traceback": [
      "\u001b[0;31m---------------------------------------------------------------------------\u001b[0m",
      "\u001b[0;31mKeyboardInterrupt\u001b[0m                         Traceback (most recent call last)",
      "\u001b[0;32m<ipython-input-48-f20101480708>\u001b[0m in \u001b[0;36m<module>\u001b[0;34m\u001b[0m\n\u001b[1;32m      3\u001b[0m     \u001b[0misPrime\u001b[0m \u001b[0;34m=\u001b[0m \u001b[0;32mTrue\u001b[0m\u001b[0;34m\u001b[0m\u001b[0m\n\u001b[1;32m      4\u001b[0m     \u001b[0;32mfor\u001b[0m \u001b[0mj\u001b[0m \u001b[0;32min\u001b[0m \u001b[0mrange\u001b[0m\u001b[0;34m(\u001b[0m\u001b[0;36m2\u001b[0m\u001b[0;34m,\u001b[0m\u001b[0mi\u001b[0m\u001b[0;34m)\u001b[0m\u001b[0;34m:\u001b[0m\u001b[0;34m\u001b[0m\u001b[0m\n\u001b[0;32m----> 5\u001b[0;31m         \u001b[0;32mif\u001b[0m \u001b[0;34m(\u001b[0m\u001b[0mi\u001b[0m \u001b[0;34m%\u001b[0m \u001b[0mj\u001b[0m \u001b[0;34m==\u001b[0m \u001b[0;36m0\u001b[0m\u001b[0;34m)\u001b[0m\u001b[0;34m:\u001b[0m\u001b[0;34m\u001b[0m\u001b[0m\n\u001b[0m\u001b[1;32m      6\u001b[0m             \u001b[0misPrime\u001b[0m \u001b[0;34m=\u001b[0m \u001b[0;32mFalse\u001b[0m\u001b[0;34m\u001b[0m\u001b[0m\n\u001b[1;32m      7\u001b[0m     \u001b[0;32mif\u001b[0m\u001b[0;34m(\u001b[0m\u001b[0misPrime\u001b[0m\u001b[0;34m)\u001b[0m\u001b[0;34m:\u001b[0m\u001b[0;34m\u001b[0m\u001b[0m\n",
      "\u001b[0;31mKeyboardInterrupt\u001b[0m: "
     ]
    }
   ],
   "source": [
    "primes = []\n",
    "for i in range(2,  (2**31)-1 ):\n",
    "    isPrime = True\n",
    "    for j in range(2,i):\n",
    "        if (i % j == 0):\n",
    "            isPrime = False\n",
    "    if(isPrime):\n",
    "        primes.append(i)\n",
    "print(len(primes))"
   ]
  },
  {
   "cell_type": "code",
   "execution_count": 115,
   "metadata": {},
   "outputs": [
    {
     "name": "stdout",
     "output_type": "stream",
     "text": [
      "8.420242309570312\n",
      "1229\n"
     ]
    }
   ],
   "source": [
    "primes = []\n",
    "t = time.time()\n",
    "for i in range(2,  10000 ):\n",
    "    isPrime = True\n",
    "    for j in range(2,i):\n",
    "        if (i % j == 0):\n",
    "            isPrime = False\n",
    "    if(isPrime):\n",
    "        primes.append(i)\n",
    "print(time.time()-t)\n",
    "print(len(primes))"
   ]
  },
  {
   "cell_type": "code",
   "execution_count": 114,
   "metadata": {},
   "outputs": [
    {
     "name": "stdout",
     "output_type": "stream",
     "text": [
      "0.8708248138427734\n",
      "1229\n"
     ]
    }
   ],
   "source": [
    "primes = [2,3]\n",
    "t = time.time()\n",
    "for i in range(2,  10000 ):\n",
    "    isPrime = True\n",
    "    for j in primes:\n",
    "        if (i % j == 0):\n",
    "            isPrime = False\n",
    "    if(isPrime):\n",
    "        primes.append(i)\n",
    "print(time.time()-t)\n",
    "print(len(primes))"
   ]
  },
  {
   "cell_type": "code",
   "execution_count": 113,
   "metadata": {
    "scrolled": true
   },
   "outputs": [
    {
     "name": "stdout",
     "output_type": "stream",
     "text": [
      "0.10618424415588379\n",
      "1229\n"
     ]
    }
   ],
   "source": [
    "primes = []\n",
    "t = time.time()\n",
    "for i in range(2,  10000 ):\n",
    "    isPrime = True\n",
    "    for j in range(2,int(i ** 0.5) + 1):\n",
    "        if (i % j == 0):\n",
    "            isPrime = False\n",
    "    if(isPrime):\n",
    "        primes.append(i)\n",
    "print(time.time()-t)\n",
    "print(len(primes))\n",
    "# print(primes)"
   ]
  },
  {
   "cell_type": "code",
   "execution_count": 116,
   "metadata": {},
   "outputs": [
    {
     "name": "stdout",
     "output_type": "stream",
     "text": [
      "3.0339174270629883\n",
      "9592\n"
     ]
    }
   ],
   "source": [
    "primes = []\n",
    "t = time.time()\n",
    "for i in range(2,  100000 ):\n",
    "    isPrime = True\n",
    "    for j in range(2,int(i ** 0.5) + 1):\n",
    "        if (i % j == 0):\n",
    "            isPrime = False\n",
    "    if(isPrime):\n",
    "        primes.append(i)\n",
    "print(time.time()-t)\n",
    "print(len(primes))\n",
    "# print(primes)"
   ]
  },
  {
   "cell_type": "code",
   "execution_count": 77,
   "metadata": {},
   "outputs": [
    {
     "name": "stdout",
     "output_type": "stream",
     "text": [
      "range(2, 7)\n",
      "range(2, 7)\n"
     ]
    }
   ],
   "source": [
    "# list_ = range(2,  ((2**31)-1 ))\n",
    "list_ = range(2,  ((2**31)-1 ))\n",
    "print(list_)\n",
    "for i in list_:\n",
    "    for j in range(2,10):\n",
    "        if (i % j == 0):\n",
    "            isPrime = False\n",
    "    if(isPrime):\n",
    "        list_.remove(i)\n",
    "\n",
    "print(list_)"
   ]
  },
  {
   "cell_type": "code",
   "execution_count": 86,
   "metadata": {},
   "outputs": [
    {
     "data": {
      "text/plain": [
       "2147483647"
      ]
     },
     "execution_count": 86,
     "metadata": {},
     "output_type": "execute_result"
    }
   ],
   "source": [
    "(2**31)-1"
   ]
  },
  {
   "cell_type": "code",
   "execution_count": null,
   "metadata": {},
   "outputs": [],
   "source": []
  },
  {
   "cell_type": "code",
   "execution_count": null,
   "metadata": {},
   "outputs": [],
   "source": []
  },
  {
   "cell_type": "code",
   "execution_count": 130,
   "metadata": {},
   "outputs": [],
   "source": [
    "nn = []\n",
    "file = open('primeTest.txt', 'r')\n",
    "aa = file.read().split(' ')\n",
    "for i in aa:\n",
    "    if (i != '') and (i != '\\n\\n') :\n",
    "        nn.append(int(i))\n"
   ]
  },
  {
   "cell_type": "code",
   "execution_count": null,
   "metadata": {},
   "outputs": [],
   "source": []
  },
  {
   "cell_type": "code",
   "execution_count": 140,
   "metadata": {},
   "outputs": [],
   "source": [
    "def fn1(n):\n",
    "    outF = []\n",
    "    for i in range(n):\n",
    "        outF.append(2*i)\n",
    "    return outF"
   ]
  },
  {
   "cell_type": "code",
   "execution_count": 141,
   "metadata": {},
   "outputs": [
    {
     "name": "stdout",
     "output_type": "stream",
     "text": [
      "100\n"
     ]
    }
   ],
   "source": [
    "print(len(fn2(100)))"
   ]
  },
  {
   "cell_type": "code",
   "execution_count": 142,
   "metadata": {},
   "outputs": [],
   "source": [
    "def fn2(n):\n",
    "    outF = []\n",
    "    for i in range(n):\n",
    "        outF.append(i**0.5)\n",
    "    return outF"
   ]
  },
  {
   "cell_type": "code",
   "execution_count": 143,
   "metadata": {},
   "outputs": [
    {
     "name": "stdout",
     "output_type": "stream",
     "text": [
      "100\n"
     ]
    }
   ],
   "source": [
    "print(len(fn2(100)))"
   ]
  },
  {
   "cell_type": "code",
   "execution_count": 225,
   "metadata": {},
   "outputs": [],
   "source": [
    "def fn3(n):\n",
    "    outF = []\n",
    "    for i in range(n):\n",
    "        a = 10**i\n",
    "        outF.append('%.2E' % Decimal(a))\n",
    "    return outF"
   ]
  },
  {
   "cell_type": "code",
   "execution_count": 145,
   "metadata": {},
   "outputs": [
    {
     "name": "stdout",
     "output_type": "stream",
     "text": [
      "100\n"
     ]
    }
   ],
   "source": [
    "print(len(fn3(100)))"
   ]
  },
  {
   "cell_type": "code",
   "execution_count": 146,
   "metadata": {},
   "outputs": [],
   "source": [
    "def fn4(n):\n",
    "    outF = []\n",
    "    for i in range(n):\n",
    "        outF.append(i**3)\n",
    "    return outF"
   ]
  },
  {
   "cell_type": "code",
   "execution_count": 147,
   "metadata": {},
   "outputs": [
    {
     "name": "stdout",
     "output_type": "stream",
     "text": [
      "100\n"
     ]
    }
   ],
   "source": [
    "print(len(fn4(100)))"
   ]
  },
  {
   "cell_type": "code",
   "execution_count": 206,
   "metadata": {},
   "outputs": [],
   "source": [
    "def fn5(n):\n",
    "    outF = []\n",
    "    for i in range(n):\n",
    "        try:\n",
    "            outF.append(2**(1/i))\n",
    "        except:\n",
    "            outF.append('None')\n",
    "    return outF"
   ]
  },
  {
   "cell_type": "code",
   "execution_count": 207,
   "metadata": {},
   "outputs": [
    {
     "name": "stdout",
     "output_type": "stream",
     "text": [
      "100\n"
     ]
    }
   ],
   "source": [
    "print(len(fn5(100)))"
   ]
  },
  {
   "cell_type": "code",
   "execution_count": 166,
   "metadata": {},
   "outputs": [],
   "source": [
    "def fn6(n):\n",
    "    outF = []\n",
    "    for i in range(n):\n",
    "        outF.append(math.exp(i))\n",
    "    return outF"
   ]
  },
  {
   "cell_type": "code",
   "execution_count": 167,
   "metadata": {},
   "outputs": [
    {
     "name": "stdout",
     "output_type": "stream",
     "text": [
      "100\n"
     ]
    }
   ],
   "source": [
    "print(len(fn6(100)))"
   ]
  },
  {
   "cell_type": "code",
   "execution_count": 226,
   "metadata": {},
   "outputs": [
    {
     "name": "stdout",
     "output_type": "stream",
     "text": [
      "(100, 6)\n"
     ]
    }
   ],
   "source": [
    "n = 100\n",
    "f1 = np.array(fn1(n))[np.newaxis].T\n",
    "f2 = np.array(fn2(n))[np.newaxis].T\n",
    "f3 = np.array(fn3(n))[np.newaxis].T\n",
    "f4 = np.array(fn4(n))[np.newaxis].T\n",
    "f5 = np.array(fn5(n))[np.newaxis].T\n",
    "f6 = np.array(fn6(n))[np.newaxis].T\n",
    "data = np.hstack([f1, f2, f3, f4, f5, f6])\n",
    "print(np.shape(data))"
   ]
  },
  {
   "cell_type": "code",
   "execution_count": 227,
   "metadata": {},
   "outputs": [],
   "source": [
    "names = ['2n', 'n^0.5', '10^n', 'n^3', '2^(1/n)', 'e^n']"
   ]
  },
  {
   "cell_type": "code",
   "execution_count": 228,
   "metadata": {},
   "outputs": [
    {
     "name": "stdout",
     "output_type": "stream",
     "text": [
      "                            2n          n^0.5           10^n            n^3        2^(1/n)            e^n\n",
      "                             0            0.0       1.00E+00              0           None            1.0\n",
      "                             2            1.0       1.00E+01              1            2.02.718281828459045\n",
      "                             41.4142135623730951       1.00E+02              81.41421356237309517.38905609893065\n",
      "                             61.7320508075688772       1.00E+03             271.259921049894873220.085536923187668\n",
      "                             8            2.0       1.00E+04             641.18920711500272154.598150033144236\n",
      "                            102.23606797749979       1.00E+05            1251.148698354997035148.4131591025766\n",
      "                            122.449489742783178       1.00E+06            2161.122462048309373403.4287934927351\n",
      "                            142.6457513110645907       1.00E+07            3431.10408951367381231096.6331584284585\n",
      "                            162.8284271247461903       1.00E+08            5121.09050773266525772980.9579870417283\n",
      "                            18            3.0       1.00E+09            7291.0800597388923068103.083927575384\n",
      "                            203.1622776601683795       1.00E+10           10001.071773462536293122026.465794806718\n",
      "                            223.3166247903554       1.00E+11           13311.065041089439962759874.14171519782\n",
      "                            243.4641016151377544       1.00E+12           17281.0594630943592953162754.79141900392\n",
      "                            263.605551275463989       1.00E+13           21971.0547660764816467442413.3920089205\n",
      "                            283.7416573867739413       1.00E+14           27441.05075663865321941202604.2841647768\n",
      "                            303.872983346207417       1.00E+15           33751.04729412282062673269017.3724721107\n",
      "                            32            4.0       1.00E+16           40961.04427378242741388886110.520507872\n",
      "                            344.123105625617661       1.00E+17           49131.041616010650583824154952.7535753\n",
      "                            364.242640687119285       1.00E+18           58321.039259226031843465659969.13733051\n",
      "                            384.358898943540674       1.00E+19           68591.0371550444461919178482300.96318725\n",
      "                            404.47213595499958       1.00E+20           80001.0352649238413776485165195.4097903\n",
      "                            424.58257569495584       1.00E+21           92611.03355778300702771318815734.4832146\n",
      "                            444.69041575982343       1.00E+22          106481.03200827973420963584912846.131592\n",
      "                            464.795831523312719       1.00E+23          121671.03059554475200949744803446.248903\n",
      "                            484.898979485566356       1.00E+24          138241.02930223664349226489122129.84347\n",
      "                            50            5.0       1.00E+25          156251.028113826656066572004899337.38588\n",
      "                            525.0990195135927845       1.00E+26          175761.0270180507087725195729609428.83878\n",
      "                            545.196152422706632       1.00E+27          196831.0260044847070386532048240601.79865\n",
      "                            565.291502622129181       1.00E+28          219521.02506421196587461446257064291.475\n",
      "                            585.385164807134504       1.00E+29          243891.02418956024899723931334297144.042\n",
      "                            605.477225575051661       1.00E+30          270001.02337389199677510686474581524.463\n",
      "                            625.5677643628300215       1.00E+31          297911.022611435601268329048849665247.426\n",
      "                            645.656854249492381       1.00E+32          327681.021897148654116678962960182680.69\n",
      "                            665.744562646538029       1.00E+33          359371.021226606315364214643579785916.06\n",
      "                            685.830951894845301       1.00E+34          393041.0205959095795867583461742527454.9\n",
      "                            705.916079783099616       1.00E+35          428751.0200016094211991586013452313430.8\n",
      "                            72            6.0       1.00E+36          466561.01944064370214484311231547115195.0\n",
      "                            746.082762530298219       1.00E+37          506531.01891028440525071.1719142372802612e+16\n",
      "                            766.164414002968976       1.00E+38          548721.0184080932741023.1855931757113756e+16\n",
      "                            786.244997998398398       1.00E+39          593191.01793188433739068.659340042399374e+16\n",
      "                            806.324555320336759       1.00E+40          640001.01747969210268632.3538526683702e+17\n",
      "                            826.4031242374328485       1.00E+41          689211.01704974444362686.398434935300549e+17\n",
      "                            846.48074069840786       1.00E+42          740881.01664043939193551.739274941520501e+18\n",
      "                            86 6.557438524302       1.00E+43          795071.0162503251935524.727839468229346e+18\n",
      "                            886.6332495807108       1.00E+44          851841.01587808310555141.2851600114359308e+19\n",
      "                            906.708203932499369       1.00E+45          911251.0155225125042753.4934271057485095e+19\n",
      "                            926.782329983125268       1.00E+46          973361.01518251795034849.496119420602448e+19\n",
      "                            946.855654600401044       1.00E+47         1038231.01485709791702022.5813128861900675e+20\n",
      "                            966.928203230275509       1.00E+48         1105921.01454533493752377.016735912097631e+20\n",
      "                            98            7.0       1.00E+49         1176491.01424638696732731.9073465724950998e+21\n",
      "                           1007.0710678118654755       1.00E+50         1250001.0139594797900295.184705528587072e+21\n",
      "                           1027.14142842854285       1.00E+51         1326511.01368390032268561.4093490824269389e+22\n",
      "                           1047.211102550927978       1.00E+52         1406081.01341899069870033.831008000716577e+22\n",
      "                           1067.280109889280518       1.00E+53         1488771.01316414302491481.0413759433029089e+23\n",
      "                           1087.3484692283495345       1.00E+54         1574641.01291879472494672.830753303274694e+23\n",
      "                           1107.416198487095663       1.00E+55         1663751.01268242439370127.694785265142018e+23\n",
      "                           1127.483314773547883       1.00E+56         1756161.0124545480987652.091659496012996e+24\n",
      "                           1147.54983443527075       1.00E+57         1851931.01223471607347445.685719999335932e+24\n",
      "                           1167.615773105863909       1.00E+58         1951121.0120225097541051.545538935590104e+25\n",
      "                           1187.681145747868608       1.00E+59         2053791.01181753912012124.2012104037905144e+25\n",
      "                           1207.745966692414834       1.00E+60         2160001.01161944030192251.1420073898156842e+26\n",
      "                           1227.810249675906654       1.00E+61         2269811.01142787342522043.10429793570192e+26\n",
      "                           1247.874007874011811       1.00E+62         2383281.01124252066518078.438356668741454e+26\n",
      "                           1267.937253933193772       1.00E+63         2500471.01106308448689552.29378315946961e+27\n",
      "                           128            8.0       1.00E+64         2621441.01088928605170056.235149080811617e+27\n",
      "                           1308.06225774829855       1.00E+65         2746251.0107208637713761.6948892444103338e+28\n",
      "                           1328.12403840463596       1.00E+66         2874961.01055757199447284.607186634331292e+28\n",
      "                           1348.18535277187245       1.00E+67         3007631.01039917981088181.2523631708422137e+29\n",
      "                           1368.246211251235321       1.00E+68         3144321.0102454699624183.404276049931741e+29\n",
      "                           1388.306623862918075       1.00E+69         3285091.01009623784860829.253781725587787e+29\n",
      "                           1408.366600265340756       1.00E+70         3430001.00995129061811652.515438670919167e+30\n",
      "                           1428.426149773176359       1.00E+71         3579111.00981044633732126.837671229762744e+30\n",
      "                           1448.48528137423857       1.00E+72         3732481.0096735332285111.8586717452841279e+31\n",
      "                           1468.54400374531753       1.00E+73         3890171.00954038897098695.052393630276104e+31\n",
      "                           1488.602325267042627       1.00E+74         4052241.00941086005909941.3733829795401761e+32\n",
      "                           1508.660254037844387       1.00E+75         4218751.00928480121187423.7332419967990015e+32\n",
      "                           1528.717797887081348       1.00E+76         4389761.00916207482946071.0148003881138887e+33\n",
      "                           1548.774964387392123       1.00E+77         4565331.0090425504921232.7585134545231703e+33\n",
      "                           1568.831760866327848       1.00E+78         4745521.00892610449794127.498416996990121e+33\n",
      "                           1588.888194417315589       1.00E+79         4930391.00881261943577582.0382810665126688e+34\n",
      "                           1608.94427190999916       1.00E+80         5120001.0087019837903995.54062238439351e+34\n",
      "                           162            9.0       1.00E+81         5314411.0085940915769991.5060973145850306e+35\n",
      "                           1649.055385138137417       1.00E+82         5513681.00848884200254134.0939969621274545e+35\n",
      "                           1669.1104335791443       1.00E+83         5717871.00838613915170971.1128637547917594e+36\n",
      "                           1689.16515138991168       1.00E+84         5927041.0082858916953743.0250773222011426e+36\n",
      "                           1709.219544457292887       1.00E+85         6141251.00818801261971918.223012714622913e+36\n",
      "                           1729.273618495495704       1.00E+86         6360561.00809241897434762.235246603734715e+37\n",
      "                           1749.327379053088816       1.00E+87         6585031.00799903163782386.076030225056872e+37\n",
      "                           1769.38083151964686       1.00E+88         6814721.00790777509926531.6516362549940018e+38\n",
      "                           1789.433981132056603       1.00E+89         7049691.00781857725471724.4896128191743455e+38\n",
      "                           1809.486832980505138       1.00E+90         7290001.00773136921715151.2204032943178408e+39\n",
      "                           1829.539392014169456       1.00E+91         7535711.0076460851390433.317400098335743e+39\n",
      "                           1849.591663046625438       1.00E+92         7786881.0075626620465599.017628405034299e+39\n",
      "                           1869.643650760992955       1.00E+93         8043571.00748103968448582.451245542920086e+40\n",
      "                           1889.695359714832659       1.00E+94         8305841.00740116037109086.663176216410896e+40\n",
      "                           1909.746794344808963       1.00E+95         8573751.00732296886218361.8112390828890233e+41\n",
      "                           1929.797958971132712       1.00E+96         8847361.0072464122237044.923458286012058e+41\n",
      "                           1949.848857801796104       1.00E+97         9126731.00717143971221911.3383347192042695e+42\n",
      "                           1969.899494936611665       1.00E+98         9411921.00709800266276343.637970947608805e+42\n",
      "                           1989.9498743710662       1.00E+99         9702991.0070260543834999.889030319346946e+42\n"
     ]
    }
   ],
   "source": [
    "row_format =\"{:>15}\" * (len(names) + 1)\n",
    "print(row_format.format(\"\", *names))\n",
    "for i in range(len(data[:,1])):\n",
    "    print(row_format.format(\"\", *data[i,:]))"
   ]
  },
  {
   "cell_type": "code",
   "execution_count": null,
   "metadata": {},
   "outputs": [],
   "source": []
  },
  {
   "cell_type": "code",
   "execution_count": 184,
   "metadata": {},
   "outputs": [],
   "source": [
    "teams_list = [\"Man Utd\", \"Man City\", \"T Hotspur\"]\n",
    "data = np.array([[1, 2, 1],\n",
    "                 [0, 1, 0],\n",
    "                 [2, 4, 2]])"
   ]
  },
  {
   "cell_type": "code",
   "execution_count": 185,
   "metadata": {},
   "outputs": [
    {
     "name": "stdout",
     "output_type": "stream",
     "text": [
      "                       Man Utd       Man City      T Hotspur\n",
      "        Man Utd              1              2              1\n",
      "       Man City              0              1              0\n",
      "      T Hotspur              2              4              2\n"
     ]
    }
   ],
   "source": [
    "row_format =\"{:>15}\" * (len(teams_list) + 1)\n",
    "print(row_format.format(\"\", *teams_list))\n",
    "for team, row in zip(teams_list, data):\n",
    "    print(row_format.format(team, *row))"
   ]
  },
  {
   "cell_type": "code",
   "execution_count": null,
   "metadata": {},
   "outputs": [],
   "source": []
  },
  {
   "cell_type": "code",
   "execution_count": 224,
   "metadata": {},
   "outputs": [
    {
     "name": "stdout",
     "output_type": "stream",
     "text": [
      "6.08E+10\n"
     ]
    }
   ],
   "source": [
    "n = 60800000000.00000000000000\n",
    "print('%.2E' % Decimal(n))"
   ]
  },
  {
   "cell_type": "code",
   "execution_count": 232,
   "metadata": {},
   "outputs": [
    {
     "name": "stdout",
     "output_type": "stream",
     "text": [
      "2.25\n"
     ]
    }
   ],
   "source": [
    "n = 2.25448\n",
    "print('{0:.2f}'.format(n))"
   ]
  },
  {
   "cell_type": "code",
   "execution_count": 233,
   "metadata": {},
   "outputs": [],
   "source": [
    "a = []\n",
    "a.append('{0:.2f}'.format(n))"
   ]
  },
  {
   "cell_type": "code",
   "execution_count": 234,
   "metadata": {},
   "outputs": [
    {
     "data": {
      "text/plain": [
       "['2.25']"
      ]
     },
     "execution_count": 234,
     "metadata": {},
     "output_type": "execute_result"
    }
   ],
   "source": [
    "a"
   ]
  },
  {
   "cell_type": "code",
   "execution_count": 235,
   "metadata": {},
   "outputs": [
    {
     "data": {
      "text/plain": [
       "array([ 0,  1,  2,  3,  4,  5,  6,  7,  8,  9, 10, 11, 12, 13, 14, 15, 16,\n",
       "       17, 18, 19, 20, 21, 22, 23, 24, 25, 26, 27, 28, 29, 30, 31, 32, 33,\n",
       "       34, 35, 36, 37, 38, 39, 40, 41, 42, 43, 44, 45, 46, 47, 48, 49, 50,\n",
       "       51, 52, 53, 54, 55, 56, 57, 58, 59, 60, 61, 62, 63, 64, 65, 66, 67,\n",
       "       68, 69, 70, 71, 72, 73, 74, 75, 76, 77, 78, 79, 80, 81, 82, 83, 84,\n",
       "       85, 86, 87, 88, 89, 90, 91, 92, 93, 94, 95, 96, 97, 98, 99])"
      ]
     },
     "execution_count": 235,
     "metadata": {},
     "output_type": "execute_result"
    }
   ],
   "source": [
    "aa = np.array(np.arange(100))\n",
    "aa"
   ]
  },
  {
   "cell_type": "code",
   "execution_count": null,
   "metadata": {},
   "outputs": [],
   "source": []
  },
  {
   "cell_type": "code",
   "execution_count": 4,
   "metadata": {},
   "outputs": [],
   "source": [
    "def fn2(n):\n",
    "    outF = []\n",
    "    for i in range(n):\n",
    "        outF.append('{0:.4f}'.format(i**0.5))\n",
    "    return outF"
   ]
  },
  {
   "cell_type": "code",
   "execution_count": 5,
   "metadata": {},
   "outputs": [
    {
     "name": "stdout",
     "output_type": "stream",
     "text": [
      "['0.0000', '1.0000', '1.4142', '1.7321', '2.0000', '2.2361', '2.4495', '2.6458', '2.8284', '3.0000']\n"
     ]
    }
   ],
   "source": [
    "a = fn2(10)\n",
    "print(a)"
   ]
  },
  {
   "cell_type": "code",
   "execution_count": null,
   "metadata": {},
   "outputs": [],
   "source": []
  },
  {
   "cell_type": "code",
   "execution_count": null,
   "metadata": {},
   "outputs": [],
   "source": []
  },
  {
   "cell_type": "code",
   "execution_count": null,
   "metadata": {},
   "outputs": [],
   "source": []
  },
  {
   "cell_type": "code",
   "execution_count": null,
   "metadata": {},
   "outputs": [],
   "source": []
  },
  {
   "cell_type": "code",
   "execution_count": null,
   "metadata": {},
   "outputs": [],
   "source": []
  }
 ],
 "metadata": {
  "kernelspec": {
   "display_name": "Python 3",
   "language": "python",
   "name": "python3"
  },
  "language_info": {
   "codemirror_mode": {
    "name": "ipython",
    "version": 3
   },
   "file_extension": ".py",
   "mimetype": "text/x-python",
   "name": "python",
   "nbconvert_exporter": "python",
   "pygments_lexer": "ipython3",
   "version": "3.5.2"
  }
 },
 "nbformat": 4,
 "nbformat_minor": 2
}
